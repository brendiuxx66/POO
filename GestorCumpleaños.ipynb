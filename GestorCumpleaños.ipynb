{
  "nbformat": 4,
  "nbformat_minor": 0,
  "metadata": {
    "colab": {
      "provenance": [],
      "authorship_tag": "ABX9TyN9Z0UvYvtcOzgLKIS9chsY",
      "include_colab_link": true
    },
    "kernelspec": {
      "name": "python3",
      "display_name": "Python 3"
    },
    "language_info": {
      "name": "python"
    }
  },
  "cells": [
    {
      "cell_type": "markdown",
      "metadata": {
        "id": "view-in-github",
        "colab_type": "text"
      },
      "source": [
        "<a href=\"https://colab.research.google.com/github/brendiuxx66/POO/blob/main/GestorCumplea%C3%B1os.ipynb\" target=\"_parent\"><img src=\"https://colab.research.google.com/assets/colab-badge.svg\" alt=\"Open In Colab\"/></a>"
      ]
    },
    {
      "cell_type": "code",
      "source": [
        "!pip install -q streamlit"
      ],
      "metadata": {
        "colab": {
          "base_uri": "https://localhost:8080/"
        },
        "id": "SJez8v716lMX",
        "outputId": "49b2420d-6f3c-4d4e-e742-2e2585c9e1d7"
      },
      "execution_count": 1,
      "outputs": [
        {
          "output_type": "stream",
          "name": "stdout",
          "text": [
            "\u001b[2K     \u001b[90m━━━━━━━━━━━━━━━━━━━━━━━━━━━━━━━━━━━━━━━━\u001b[0m \u001b[32m44.3/44.3 kB\u001b[0m \u001b[31m1.6 MB/s\u001b[0m eta \u001b[36m0:00:00\u001b[0m\n",
            "\u001b[2K   \u001b[90m━━━━━━━━━━━━━━━━━━━━━━━━━━━━━━━━━━━━━━━━\u001b[0m \u001b[32m9.9/9.9 MB\u001b[0m \u001b[31m21.7 MB/s\u001b[0m eta \u001b[36m0:00:00\u001b[0m\n",
            "\u001b[2K   \u001b[90m━━━━━━━━━━━━━━━━━━━━━━━━━━━━━━━━━━━━━━━━\u001b[0m \u001b[32m6.9/6.9 MB\u001b[0m \u001b[31m29.1 MB/s\u001b[0m eta \u001b[36m0:00:00\u001b[0m\n",
            "\u001b[2K   \u001b[90m━━━━━━━━━━━━━━━━━━━━━━━━━━━━━━━━━━━━━━━━\u001b[0m \u001b[32m79.1/79.1 kB\u001b[0m \u001b[31m5.2 MB/s\u001b[0m eta \u001b[36m0:00:00\u001b[0m\n",
            "\u001b[?25h"
          ]
        }
      ]
    },
    {
      "cell_type": "code",
      "source": [
        "!pip install python-dotenv\n",
        "from dotenv import load_dotenv"
      ],
      "metadata": {
        "colab": {
          "base_uri": "https://localhost:8080/"
        },
        "id": "K9PVsOFJ8Bf6",
        "outputId": "18d34f30-7e12-4e35-fc87-a7efbf1ef5b9"
      },
      "execution_count": 7,
      "outputs": [
        {
          "output_type": "stream",
          "name": "stdout",
          "text": [
            "Collecting python-dotenv\n",
            "  Downloading python_dotenv-1.1.0-py3-none-any.whl.metadata (24 kB)\n",
            "Downloading python_dotenv-1.1.0-py3-none-any.whl (20 kB)\n",
            "Installing collected packages: python-dotenv\n",
            "Successfully installed python-dotenv-1.1.0\n"
          ]
        }
      ]
    },
    {
      "cell_type": "code",
      "source": [
        "# Crear archivo .env en Colab\n",
        "with open(\".env\", \"w\") as f:\n",
        "    f.write(\"GMAIL_USER=brenda.ramirez0366@alumnos.udg.mx\\n\")\n",
        "    f.write(\"GMAIL_PASSWORD=spqpdimhcnoepdfy\\n\")\n"
      ],
      "metadata": {
        "id": "HzI6E0e6GjF-"
      },
      "execution_count": 21,
      "outputs": []
    },
    {
      "cell_type": "code",
      "execution_count": 34,
      "metadata": {
        "id": "08txICmDLErb",
        "colab": {
          "base_uri": "https://localhost:8080/"
        },
        "outputId": "e934a1ce-4960-4184-8187-d4bdb7f8afcf"
      },
      "outputs": [
        {
          "output_type": "stream",
          "name": "stdout",
          "text": [
            "Overwriting app.py\n"
          ]
        }
      ],
      "source": [
        "%%writefile app.py\n",
        "import csv\n",
        "import os\n",
        "import random\n",
        "import smtplib\n",
        "from datetime import datetime, date\n",
        "from email.message import EmailMessage\n",
        "from typing import List\n",
        "import streamlit as st\n",
        "from dotenv import load_dotenv\n",
        "\n",
        "# Carga variables de entorno\n",
        "load_dotenv()\n",
        "\n",
        "# --- Clases ---\n",
        "\n",
        "class Contacto:\n",
        "    def __init__(self, nombre: str, fecha_nacimiento: str, email: str, mensaje_id: int = None):\n",
        "        self.nombre = nombre\n",
        "        self.email = email\n",
        "        self.fecha_nacimiento = datetime.strptime(fecha_nacimiento, \"%Y-%m-%d\").date()\n",
        "        self.mensaje_id = mensaje_id  # ID del mensaje asignado, puede ser None\n",
        "\n",
        "    def dias_para_cumple(self) -> int:\n",
        "        hoy = date.today()\n",
        "        proximo_cumple = self.fecha_nacimiento.replace(year=hoy.year)\n",
        "        if proximo_cumple < hoy:\n",
        "            proximo_cumple = proximo_cumple.replace(year=hoy.year + 1)\n",
        "        return (proximo_cumple - hoy).days\n",
        "\n",
        "class GestorCumpleaños:\n",
        "    def __init__(self, archivo_contactos=\"contactos.csv\"):\n",
        "        self.archivo_contactos = archivo_contactos\n",
        "        self.contactos: List[Contacto] = self.cargar_contactos()\n",
        "\n",
        "    def cargar_contactos(self) -> List[Contacto]:\n",
        "        contactos = []\n",
        "        if os.path.exists(self.archivo_contactos):\n",
        "            with open(self.archivo_contactos, mode=\"r\", newline=\"\") as file:\n",
        "                reader = csv.reader(file)\n",
        "                for fila in reader:\n",
        "                    if len(fila) >= 3:\n",
        "                        nombre, fecha, email = fila[:3]\n",
        "                        mensaje_id = int(fila[3]) if len(fila) > 3 and fila[3].isdigit() else None\n",
        "                        contactos.append(Contacto(nombre, fecha, email, mensaje_id))\n",
        "        return contactos\n",
        "\n",
        "    def guardar_contactos(self):\n",
        "        with open(self.archivo_contactos, mode=\"w\", newline=\"\") as file:\n",
        "            writer = csv.writer(file)\n",
        "            for c in self.contactos:\n",
        "                fila = [\n",
        "                    c.nombre,\n",
        "                    c.fecha_nacimiento.isoformat(),\n",
        "                    c.email,\n",
        "                    c.mensaje_id if c.mensaje_id is not None else \"\"\n",
        "                ]\n",
        "                writer.writerow(fila)\n",
        "\n",
        "    def agregar_contacto(self, contacto: Contacto):\n",
        "        self.contactos.append(contacto)\n",
        "        self.guardar_contactos()\n",
        "\n",
        "    def actualizar_contacto(self, index: int, contacto: Contacto):\n",
        "        self.contactos[index] = contacto\n",
        "        self.guardar_contactos()\n",
        "\n",
        "    def eliminar_contacto(self, index: int):\n",
        "        del self.contactos[index]\n",
        "        self.guardar_contactos()\n",
        "\n",
        "class MensajeManager:\n",
        "    def __init__(self, archivo_mensajes=\"mensajes.csv\"):\n",
        "        self.archivo_mensajes = archivo_mensajes\n",
        "        self.mensajes: List[str] = self.cargar_mensajes()\n",
        "\n",
        "    def cargar_mensajes(self) -> List[str]:\n",
        "        mensajes = []\n",
        "        if os.path.exists(self.archivo_mensajes):\n",
        "            with open(self.archivo_mensajes, mode=\"r\", newline=\"\") as file:\n",
        "                reader = csv.reader(file)\n",
        "                mensajes = [fila[0] for fila in reader if fila]\n",
        "        return mensajes\n",
        "\n",
        "    def guardar_mensajes(self):\n",
        "        with open(self.archivo_mensajes, mode=\"w\", newline=\"\") as file:\n",
        "            writer = csv.writer(file)\n",
        "            for m in self.mensajes:\n",
        "                writer.writerow([m])\n",
        "\n",
        "    def agregar_mensaje(self, mensaje: str):\n",
        "        self.mensajes.append(mensaje)\n",
        "        self.guardar_mensajes()\n",
        "\n",
        "    def actualizar_mensaje(self, index: int, mensaje: str):\n",
        "        self.mensajes[index] = mensaje\n",
        "        self.guardar_mensajes()\n",
        "\n",
        "    def eliminar_mensaje(self, index: int):\n",
        "        del self.mensajes[index]\n",
        "        self.guardar_mensajes()\n",
        "\n",
        "    def obtener_mensaje_aleatorio(self, nombre: str) -> str:\n",
        "        if not self.mensajes:\n",
        "            return f\"¡Feliz cumpleaños, {nombre}!\"\n",
        "        mensaje = random.choice(self.mensajes)\n",
        "        return mensaje.replace(\"{nombre}\", nombre)\n",
        "\n",
        "class Correo:\n",
        "    def __init__(self):\n",
        "        self.email_origen = os.getenv(\"GMAIL_USER\")\n",
        "        self.contraseña = os.getenv(\"GMAIL_PASSWORD\")\n",
        "\n",
        "    def enviar_correo(self, destinatario: str, asunto: str, mensaje: str):\n",
        "        if not self.email_origen or not self.contraseña:\n",
        "            st.error(\"❌ Configura tu email y contraseña en el archivo .env\")\n",
        "            return\n",
        "\n",
        "        msg = EmailMessage()\n",
        "        msg.set_content(mensaje)\n",
        "        msg[\"Subject\"] = asunto\n",
        "        msg[\"From\"] = self.email_origen\n",
        "        msg[\"To\"] = destinatario\n",
        "\n",
        "        try:\n",
        "            with smtplib.SMTP_SSL(\"smtp.gmail.com\", 465) as smtp:\n",
        "                smtp.login(self.email_origen, self.contraseña)\n",
        "                smtp.send_message(msg)\n",
        "                st.success(f\"✅ Correo enviado a {destinatario}\")\n",
        "        except Exception as e:\n",
        "            st.error(f\"❌ Error al enviar correo: {e}\")\n",
        "\n",
        "# --- Función para enviar felicitaciones automáticas ---\n",
        "\n",
        "def felicitar_cumpleaños_hoy(gestor: GestorCumpleaños, mensajes: MensajeManager, correo: Correo):\n",
        "    hoy = date.today()\n",
        "    enviados = 0\n",
        "    for contacto in gestor.contactos:\n",
        "        if contacto.fecha_nacimiento.month == hoy.month and contacto.fecha_nacimiento.day == hoy.day:\n",
        "            if contacto.mensaje_id is not None and 0 <= contacto.mensaje_id < len(mensajes.mensajes):\n",
        "                mensaje = mensajes.mensajes[contacto.mensaje_id].replace(\"{nombre}\", contacto.nombre)\n",
        "            else:\n",
        "                mensaje = mensajes.obtener_mensaje_aleatorio(contacto.nombre)\n",
        "            correo.enviar_correo(contacto.email, \"¡Feliz cumpleaños!\", mensaje)\n",
        "            enviados += 1\n",
        "    return enviados\n",
        "\n",
        "# --- Interfaz Streamlit ---\n",
        "\n",
        "def main():\n",
        "    st.set_page_config(page_title=\"Gestor de Cumpleaños\", page_icon=\"🎂\")\n",
        "    st.title(\"🎉 Gestor de Cumpleaños Automático\")\n",
        "\n",
        "    gestor = GestorCumpleaños()\n",
        "    mensajes = MensajeManager()\n",
        "    correo = Correo()\n",
        "\n",
        "    # Enviar felicitaciones automáticamente al iniciar\n",
        "    felicitar_cumpleaños_hoy(gestor, mensajes, correo)\n",
        "\n",
        "    menu = st.sidebar.selectbox(\"Menú\", [\n",
        "        \"Inicio\",\n",
        "        \"Agregar Contacto\",\n",
        "        \"Ver Cumpleaños\",\n",
        "        \"Gestionar Mensajes\"\n",
        "    ])\n",
        "\n",
        "    if menu == \"Inicio\":\n",
        "        st.header(\"🏠 Inicio\")\n",
        "        st.write(f\"📌 Contactos registrados: {len(gestor.contactos)}\")\n",
        "        st.write(f\"💬 Mensajes personalizados: {len(mensajes.mensajes)}\")\n",
        "\n",
        "    elif menu == \"Agregar Contacto\":\n",
        "        st.header(\"👤 Agregar Nuevo Contacto\")\n",
        "        nombre = st.text_input(\"Nombre completo\")\n",
        "        fecha_minima = date(1600, 1, 1)\n",
        "        fecha_maxima = date.today()\n",
        "        fecha = st.date_input(\"Fecha de nacimiento\", min_value=fecha_minima, max_value=fecha_maxima, value=fecha_maxima)\n",
        "        email = st.text_input(\"Correo electrónico\")\n",
        "\n",
        "        # Selector de mensaje para asignar\n",
        "        opciones_mensajes = [\"Ninguno\"] + mensajes.mensajes\n",
        "        mensaje_seleccionado = st.selectbox(\"Selecciona mensaje para este contacto (opcional):\", opciones_mensajes)\n",
        "\n",
        "        if st.button(\"Guardar Contacto\"):\n",
        "            if not nombre or not email:\n",
        "                st.warning(\"⚠️ Nombre y email son obligatorios\")\n",
        "            elif \"@\" not in email:\n",
        "                st.error(\"❌ Ingresa un email válido\")\n",
        "            else:\n",
        "                mensaje_id = None\n",
        "                if mensaje_seleccionado != \"Ninguno\":\n",
        "                    mensaje_id = mensajes.mensajes.index(mensaje_seleccionado)\n",
        "                nuevo_contacto = Contacto(nombre.strip(), fecha.strftime(\"%Y-%m-%d\"), email.strip(), mensaje_id)\n",
        "                gestor.agregar_contacto(nuevo_contacto)\n",
        "                st.success(\"✅ Contacto guardado correctamente\")\n",
        "\n",
        "        # Editar o eliminar contactos\n",
        "        if gestor.contactos:\n",
        "            st.subheader(\"Editar o eliminar contactos\")\n",
        "            opciones = [f\"{c.nombre} ({c.fecha_nacimiento.isoformat()})\" for c in gestor.contactos]\n",
        "            seleccionado = st.selectbox(\"Selecciona un contacto\", opciones)\n",
        "            idx = opciones.index(seleccionado)\n",
        "            contacto_sel = gestor.contactos[idx]\n",
        "\n",
        "            nombre_edit = st.text_input(\"Nombre\", value=contacto_sel.nombre, key=\"nombre_edit\")\n",
        "            fecha_edit = st.date_input(\"Fecha de nacimiento\", min_value=fecha_minima, max_value=fecha_maxima, value=contacto_sel.fecha_nacimiento, key=\"fecha_edit\")\n",
        "            email_edit = st.text_input(\"Correo electrónico\", value=contacto_sel.email, key=\"email_edit\")\n",
        "\n",
        "            # Selector de mensaje para editar\n",
        "            mensaje_actual = \"Ninguno\"\n",
        "            if contacto_sel.mensaje_id is not None and 0 <= contacto_sel.mensaje_id < len(mensajes.mensajes):\n",
        "                mensaje_actual = mensajes.mensajes[contacto_sel.mensaje_id]\n",
        "            opciones_mensajes_edit = [\"Ninguno\"] + mensajes.mensajes\n",
        "            mensaje_seleccionado_edit = st.selectbox(\"Mensaje asignado\", opciones_mensajes_edit, index=opciones_mensajes_edit.index(mensaje_actual))\n",
        "\n",
        "            if st.button(\"Actualizar contacto\"):\n",
        "                if nombre_edit.strip() and email_edit.strip():\n",
        "                    mensaje_id = None\n",
        "                    if mensaje_seleccionado_edit != \"Ninguno\":\n",
        "                        mensaje_id = mensajes.mensajes.index(mensaje_seleccionado_edit)\n",
        "                    actualizado = Contacto(nombre_edit.strip(), fecha_edit.strftime(\"%Y-%m-%d\"), email_edit.strip(), mensaje_id)\n",
        "                    gestor.actualizar_contacto(idx, actualizado)\n",
        "                    st.success(\"Contacto actualizado\")\n",
        "                else:\n",
        "                    st.warning(\"⚠️ Los campos no pueden estar vacíos\")\n",
        "\n",
        "            if st.button(\"Eliminar contacto\"):\n",
        "                gestor.eliminar_contacto(idx)\n",
        "                st.success(\"Contacto eliminado\")\n",
        "                st.experimental_rerun()\n",
        "\n",
        "    elif menu == \"Ver Cumpleaños\":\n",
        "        st.header(\"📅 Próximos Cumpleaños\")\n",
        "        if not gestor.contactos:\n",
        "            st.info(\"No hay contactos registrados aún.\")\n",
        "        else:\n",
        "            ordenados = sorted(gestor.contactos, key=lambda c: c.dias_para_cumple())\n",
        "            for c in ordenados:\n",
        "                st.write(f\"📌 {c.nombre} - 📧 {c.email} - ⏳ Faltan {c.dias_para_cumple()} día(s)\")\n",
        "\n",
        "    elif menu == \"Gestionar Mensajes\":\n",
        "        st.header(\"💌 Mensajes Personalizados\")\n",
        "        nuevo_mensaje = st.text_area(\"Añade un nuevo mensaje (usa {nombre} para personalizar):\")\n",
        "        if st.button(\"Guardar Mensaje\"):\n",
        "            if nuevo_mensaje.strip():\n",
        "                mensajes.agregar_mensaje(nuevo_mensaje.strip())\n",
        "                st.success(\"Mensaje guardado\")\n",
        "            else:\n",
        "                st.warning(\"⚠️ El mensaje no puede estar vacío\")\n",
        "\n",
        "        if mensajes.mensajes:\n",
        "            st.subheader(\"Editar o eliminar mensajes\")\n",
        "            opciones_msg = [f\"{i+1}: {m[:40]}...\" for i, m in enumerate(mensajes.mensajes)]\n",
        "            seleccionado_msg = st.selectbox(\"Selecciona un mensaje\", opciones_msg)\n",
        "            idx_msg = opciones_msg.index(seleccionado_msg)\n",
        "            mensaje_sel = mensajes.mensajes[idx_msg]\n",
        "\n",
        "            texto_edit = st.text_area(\"Texto del mensaje\", value=mensaje_sel, key=\"mensaje_edit\")\n",
        "\n",
        "            if st.button(\"Actualizar mensaje\"):\n",
        "                if texto_edit.strip():\n",
        "                    mensajes.actualizar_mensaje(idx_msg, texto_edit.strip())\n",
        "                    st.success(\"Mensaje actualizado\")\n",
        "                else:\n",
        "                    st.warning(\"⚠️ El mensaje no puede estar vacío\")\n",
        "\n",
        "            if st.button(\"Eliminar mensaje\"):\n",
        "                mensajes.eliminar_mensaje(idx_msg)\n",
        "                st.success(\"Mensaje eliminado\")\n",
        "                st.experimental_rerun()\n",
        "        else:\n",
        "            st.info(\"No hay mensajes registrados.\")\n",
        "\n",
        "if __name__ == \"__main__\":\n",
        "    main()"
      ]
    },
    {
      "cell_type": "code",
      "source": [
        "!npm install localtunnel"
      ],
      "metadata": {
        "colab": {
          "base_uri": "https://localhost:8080/"
        },
        "id": "rKW6jSDy65kq",
        "outputId": "f1d38295-5576-437e-fb0d-a574db8e82d3"
      },
      "execution_count": 23,
      "outputs": [
        {
          "output_type": "stream",
          "name": "stdout",
          "text": [
            "\u001b[1G\u001b[0K⠙\u001b[1G\u001b[0K⠹\u001b[1G\u001b[0K⠸\u001b[1G\u001b[0K⠼\u001b[1G\u001b[0K⠴\u001b[1G\u001b[0K⠦\u001b[1G\u001b[0K⠧\u001b[1G\u001b[0K\n",
            "up to date, audited 23 packages in 1s\n",
            "\u001b[1G\u001b[0K⠧\u001b[1G\u001b[0K\n",
            "\u001b[1G\u001b[0K⠧\u001b[1G\u001b[0K3 packages are looking for funding\n",
            "\u001b[1G\u001b[0K⠧\u001b[1G\u001b[0K  run `npm fund` for details\n",
            "\u001b[1G\u001b[0K⠧\u001b[1G\u001b[0K\n",
            "2 \u001b[31m\u001b[1mhigh\u001b[22m\u001b[39m severity vulnerabilities\n",
            "\n",
            "To address all issues (including breaking changes), run:\n",
            "  npm audit fix --force\n",
            "\n",
            "Run `npm audit` for details.\n",
            "\u001b[1G\u001b[0K⠇\u001b[1G\u001b[0K"
          ]
        }
      ]
    },
    {
      "cell_type": "code",
      "source": [
        "!streamlit run /content/app.py &>/content/logs.txt &"
      ],
      "metadata": {
        "id": "Gy3aUZ9a6-VJ"
      },
      "execution_count": 24,
      "outputs": []
    },
    {
      "cell_type": "code",
      "source": [
        "!streamlit run app.py &>/content/logs.txt & npx localtunnel --port 8501 & curl ipv4.icanhazip.com"
      ],
      "metadata": {
        "colab": {
          "base_uri": "https://localhost:8080/"
        },
        "id": "b11k0abG7BDX",
        "outputId": "0ff985c7-b8e5-42fd-96be-fea942db16bd"
      },
      "execution_count": 25,
      "outputs": [
        {
          "output_type": "stream",
          "name": "stdout",
          "text": [
            "35.185.160.176\n",
            "\u001b[1G\u001b[0K⠙\u001b[1G\u001b[0Kyour url is: https://quiet-carpets-remain.loca.lt\n"
          ]
        }
      ]
    }
  ]
}